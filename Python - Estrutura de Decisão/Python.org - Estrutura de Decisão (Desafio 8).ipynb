{
 "cells": [
  {
   "cell_type": "code",
   "execution_count": null,
   "id": "f704985c",
   "metadata": {},
   "outputs": [],
   "source": [
    "Python - Lista de Exercícios (Estrutura de Decisão) \n",
    "link: https://wiki.python.org.br/EstruturaDeDecisao"
   ]
  },
  {
   "cell_type": "markdown",
   "id": "f36f0365",
   "metadata": {},
   "source": [
    "8) Faça um programa que pergunte o preço de três produtos e informe qual produto você deve comprar, sabendo que a decisão é sempre pelo mais barato."
   ]
  },
  {
   "cell_type": "code",
   "execution_count": null,
   "id": "291025e7",
   "metadata": {},
   "outputs": [],
   "source": [
    "Obs.: Visando desenvolver o programa de forma mais dinâmica e menos suscetível a erros, adicionei \n",
    "outras estruturas no corpo do código. De modo que apenas números sejam aceitos durante sua execução\n",
    "e, considerando também a possibilidade de dois ou, todos os números digitados, possuírem o mesmo valor."
   ]
  },
  {
   "cell_type": "code",
   "execution_count": null,
   "id": "eb6d47b6",
   "metadata": {},
   "outputs": [],
   "source": [
    "while True:\n",
    "  x = input(\"Preço do primeiro produto: \")\n",
    "  y = input(\"Preço do segundo produto: \")\n",
    "  z = input(\"Preço do terceiro produto: \")\n",
    "  try:\n",
    "    float(x), float(y), float(z)\n",
    "    x, y, z = float(x), float(y), float(z)\n",
    "    if x > y and y > z:\n",
    "      print(f\"Você deveria optar pelo produto de preço R$ {z},00.\")\n",
    "      break\n",
    "    elif x > y and z > y:\n",
    "      print(f\"Você deveria optar pelo produto de preço R$ {y},00.\")\n",
    "      break\n",
    "    elif y > x and x > z:\n",
    "      print(f\"Você deveria optar pelo produto de preço R$ {z},00.\")\n",
    "      break\n",
    "    elif y > z and z > x:\n",
    "      print(f\"Você deveria optar pelo produto de preço R$ {x},00.\")\n",
    "      break\n",
    "    elif z > x and x > y:\n",
    "      print(f\"Você deveria optar pelo produto de preço R$ {y},00.\")\n",
    "      break\n",
    "    elif z > x and y > x:\n",
    "      print(f\"Você deveria optar pelo produto de preço R$ {x},00.\")\n",
    "      break\n",
    "    elif x == y and x > z:\n",
    "      print(f\"Você deveria optar pelo produto de preço R$ {z},00.\")\n",
    "      break\n",
    "    elif x == y and z > x:\n",
    "      print(f\"Você deveria optar pelo produto de preço R$ {x},00.\")\n",
    "      break\n",
    "    elif y == z and y > x:\n",
    "      print(f\"Você deveria optar pelo produto de preço R$ {x},00.\")\n",
    "      break\n",
    "    elif y == z and y < x:\n",
    "      print(f\"Você deveria optar pelo produto de preço R$ {y},00.\")\n",
    "      break\n",
    "    elif x == z and x > y:\n",
    "      print(f\"Você deveria optar pelo produto de preço R$ {y},00.\")\n",
    "      break\n",
    "    elif x == z and x < y:\n",
    "      print(f\"Você deveria optar pelo produto de preço R$ {x},00.\")\n",
    "      break\n",
    "    elif x == z and x == y:\n",
    "      print(\"Os três produtos possuem o mesmo valor.\")\n",
    "      break\n",
    "  except:\n",
    "    print(\"Por favor, digite apenas números.\")\n",
    "    continue"
   ]
  }
 ],
 "metadata": {
  "kernelspec": {
   "display_name": "Python 3 (ipykernel)",
   "language": "python",
   "name": "python3"
  },
  "language_info": {
   "codemirror_mode": {
    "name": "ipython",
    "version": 3
   },
   "file_extension": ".py",
   "mimetype": "text/x-python",
   "name": "python",
   "nbconvert_exporter": "python",
   "pygments_lexer": "ipython3",
   "version": "3.8.10"
  }
 },
 "nbformat": 4,
 "nbformat_minor": 5
}
